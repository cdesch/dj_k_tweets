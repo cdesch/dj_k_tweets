{
 "cells": [
  {
   "cell_type": "code",
   "execution_count": 6,
   "metadata": {},
   "outputs": [],
   "source": [
    "import pandas as pd\n",
    "import markovify # https://github.com/jsvine/markovify\n",
    "import csv\n",
    "import time\n"
   ]
  },
  {
   "cell_type": "code",
   "execution_count": 7,
   "metadata": {},
   "outputs": [
    {
     "data": {
      "text/html": [
       "<div>\n",
       "<style scoped>\n",
       "    .dataframe tbody tr th:only-of-type {\n",
       "        vertical-align: middle;\n",
       "    }\n",
       "\n",
       "    .dataframe tbody tr th {\n",
       "        vertical-align: top;\n",
       "    }\n",
       "\n",
       "    .dataframe thead th {\n",
       "        text-align: right;\n",
       "    }\n",
       "</style>\n",
       "<table border=\"1\" class=\"dataframe\">\n",
       "  <thead>\n",
       "    <tr style=\"text-align: right;\">\n",
       "      <th></th>\n",
       "      <th>quote</th>\n",
       "    </tr>\n",
       "  </thead>\n",
       "  <tbody>\n",
       "    <tr>\n",
       "      <th>0</th>\n",
       "      <td>Love is the most powerful thing in the world, ...</td>\n",
       "    </tr>\n",
       "    <tr>\n",
       "      <th>1</th>\n",
       "      <td>I'm all about peace. I'm all about unity. I'm ...</td>\n",
       "    </tr>\n",
       "    <tr>\n",
       "      <th>2</th>\n",
       "      <td>You gotta water your plants. Nobody can water ...</td>\n",
       "    </tr>\n",
       "    <tr>\n",
       "      <th>3</th>\n",
       "      <td>It's safe to say headphones is a good business.</td>\n",
       "    </tr>\n",
       "    <tr>\n",
       "      <th>4</th>\n",
       "      <td>I put cocoa butter all over my face and my ico...</td>\n",
       "    </tr>\n",
       "    <tr>\n",
       "      <th>...</th>\n",
       "      <td>...</td>\n",
       "    </tr>\n",
       "    <tr>\n",
       "      <th>169</th>\n",
       "      <td>I wake up every day inspiring myself because G...</td>\n",
       "    </tr>\n",
       "    <tr>\n",
       "      <th>170</th>\n",
       "      <td>I’m all about peace. I’m all about unity. I’m ...</td>\n",
       "    </tr>\n",
       "    <tr>\n",
       "      <th>171</th>\n",
       "      <td>We gonna win more. We gonna live more. We the ...</td>\n",
       "    </tr>\n",
       "    <tr>\n",
       "      <th>172</th>\n",
       "      <td>I’m gonna go hard no matter what because I got...</td>\n",
       "    </tr>\n",
       "    <tr>\n",
       "      <th>173</th>\n",
       "      <td>The key is that I’m the king.</td>\n",
       "    </tr>\n",
       "  </tbody>\n",
       "</table>\n",
       "<p>174 rows × 1 columns</p>\n",
       "</div>"
      ],
      "text/plain": [
       "                                                 quote\n",
       "0    Love is the most powerful thing in the world, ...\n",
       "1    I'm all about peace. I'm all about unity. I'm ...\n",
       "2    You gotta water your plants. Nobody can water ...\n",
       "3      It's safe to say headphones is a good business.\n",
       "4    I put cocoa butter all over my face and my ico...\n",
       "..                                                 ...\n",
       "169  I wake up every day inspiring myself because G...\n",
       "170  I’m all about peace. I’m all about unity. I’m ...\n",
       "171  We gonna win more. We gonna live more. We the ...\n",
       "172  I’m gonna go hard no matter what because I got...\n",
       "173                      The key is that I’m the king.\n",
       "\n",
       "[174 rows x 1 columns]"
      ]
     },
     "execution_count": 7,
     "metadata": {},
     "output_type": "execute_result"
    }
   ],
   "source": [
    "# Load Training Data\n",
    "df = pd.read_csv('data/training_data.csv', sep=\"\\n\")\n",
    "df"
   ]
  },
  {
   "cell_type": "code",
   "execution_count": 8,
   "metadata": {},
   "outputs": [],
   "source": [
    "# Joing all the strings together as a corpus. Each one should be a sentence ending with a period\n",
    "text = df['quote'].str.cat(sep=' ')"
   ]
  },
  {
   "cell_type": "code",
   "execution_count": 9,
   "metadata": {},
   "outputs": [
    {
     "name": "stdout",
     "output_type": "stream",
     "text": [
      "I wake up every day I love you.\n",
      "And I’m also one of the day, I understand that you're busy.\n",
      "My fans expect me to talk with Obama and the conversation I had with him, I was becoming a young man.\n",
      "You gotta understand: I believe that love is the answer.\n",
      "I'm one of the best, so sometimes I'm out of keys.\n",
      "I haven’t taken a loss because everything I’ve done has been a fan of rock music, though.\n",
      "The key is that I really don’t have anybody to do more than just headphones eventually, but we will overcome them.\n",
      "There will be very successful.\n",
      "People will try to bring you down, but they wanna kick it when you’re up.\n",
      "The key is to make people happy, to inspire people and touch the people and touch the culture.\n",
      "It cost money to eat?\n",
      "Quincy Jones is a powerful positive movement.\n",
      "It’s safe to say I fear something.\n",
      "And I’m also one of the guys when they play, they try to bring you down, but you gotta go up.\n",
      "I'm going to win.\n",
      "You do know that me and my arms and legs.\n",
      "That's my formula, and the conversation I had to sacrifice to leave my family...\n",
      "That's my formula, and the next month.\n",
      "That's my formula, and the conversation I had to sacrifice to leave my family...\n",
      "Everyone I look up to is bringing me into the studio with Bob Marley.\n",
      "It makes me super strong because I do is WIN, WIN, WIN no matter what because I understand that you're busy.\n",
      "I wanted to go to the next day, it's completely all gone.\n",
      "Everybody around me had a Snapchat, and I might finish it.\n",
      "Stay focused, you know what I’m trying to tell you is that what you really deserve.\n",
      "We have to get healthy.\n",
      "We're going to tell you I've been a fan of rock music, though.\n",
      "Love to everybody who is out there progressing and taking care of my major keys is actually the master keys: God.\n",
      "I remember I used to.\n",
      "It's like a new pair of boxers or a new pair of boxers or a new pair of socks.\n",
      "That's my formula, and the conversation I had with him, I was letting him know that I’ve been put on this Earth to make everything the best executives ever.\n"
     ]
    }
   ],
   "source": [
    "# Build the model.\n",
    "text_model = markovify.Text(text)\n",
    "generated_quotes = []\n",
    "num_long = 20\n",
    "num_short = 10\n",
    "# Print five randomly-generated sentences\n",
    "for i in range(num_long):\n",
    "    sentence = text_model.make_sentence()\n",
    "    generated_quotes.append(sentence)\n",
    "    print(sentence)\n",
    "\n",
    "# Print three randomly-generated sentences of no more than 280 characters\n",
    "for i in range(num_short):\n",
    "    sentence = text_model.make_short_sentence(280)\n",
    "    generated_quotes.append(sentence)\n",
    "    print(sentence)"
   ]
  },
  {
   "cell_type": "code",
   "execution_count": 10,
   "metadata": {},
   "outputs": [],
   "source": [
    "# Write the output to a file\n",
    "generated_filename = f'./output/generated.{int(time.time())}.csv'\n",
    "\n",
    "with open(generated_filename, 'wt') as output:\n",
    "    writer = csv.writer(output)\n",
    "    \n",
    "    writer.writerow(\n",
    "        ['generated_quote']\n",
    "    )\n",
    "\n",
    "    for sentence in generated_quotes:\n",
    "        writer.writerow([sentence])\n",
    "    \n"
   ]
  },
  {
   "cell_type": "code",
   "execution_count": null,
   "metadata": {},
   "outputs": [],
   "source": [
    "\n"
   ]
  }
 ],
 "metadata": {
  "interpreter": {
   "hash": "865930e2c62e82f44315dd3b516508ed26d252ec6fdac0049f5dd5aa21ae2e3f"
  },
  "kernelspec": {
   "display_name": "Python 3.9.1 64-bit ('venv': venv)",
   "name": "python3"
  },
  "language_info": {
   "codemirror_mode": {
    "name": "ipython",
    "version": 3
   },
   "file_extension": ".py",
   "mimetype": "text/x-python",
   "name": "python",
   "nbconvert_exporter": "python",
   "pygments_lexer": "ipython3",
   "version": "3.9.1"
  },
  "orig_nbformat": 4
 },
 "nbformat": 4,
 "nbformat_minor": 2
}
