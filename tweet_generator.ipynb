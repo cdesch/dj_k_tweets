{
 "cells": [
  {
   "cell_type": "code",
   "execution_count": 26,
   "metadata": {},
   "outputs": [],
   "source": [
    "import pandas as pd\n",
    "import markovify # https://github.com/jsvine/markovify\n",
    "import csv\n",
    "import time"
   ]
  },
  {
   "cell_type": "code",
   "execution_count": 27,
   "metadata": {},
   "outputs": [
    {
     "data": {
      "text/html": [
       "<div>\n",
       "<style scoped>\n",
       "    .dataframe tbody tr th:only-of-type {\n",
       "        vertical-align: middle;\n",
       "    }\n",
       "\n",
       "    .dataframe tbody tr th {\n",
       "        vertical-align: top;\n",
       "    }\n",
       "\n",
       "    .dataframe thead th {\n",
       "        text-align: right;\n",
       "    }\n",
       "</style>\n",
       "<table border=\"1\" class=\"dataframe\">\n",
       "  <thead>\n",
       "    <tr style=\"text-align: right;\">\n",
       "      <th></th>\n",
       "      <th>normalized</th>\n",
       "    </tr>\n",
       "  </thead>\n",
       "  <tbody>\n",
       "    <tr>\n",
       "      <th>0</th>\n",
       "      <td>Grateful, thank u @USER for the nomination, bl...</td>\n",
       "    </tr>\n",
       "    <tr>\n",
       "      <th>1</th>\n",
       "      <td>Behind the scenes the summer anthem #EVERYCHAN...</td>\n",
       "    </tr>\n",
       "    <tr>\n",
       "      <th>2</th>\n",
       "      <td>The man, the legend, the icon. GOD'S SON @USER...</td>\n",
       "    </tr>\n",
       "    <tr>\n",
       "      <th>3</th>\n",
       "      <td>This is a legendary occasion @USER The chance ...</td>\n",
       "    </tr>\n",
       "    <tr>\n",
       "      <th>4</th>\n",
       "      <td>Thank you @USER for having me we had great tal...</td>\n",
       "    </tr>\n",
       "    <tr>\n",
       "      <th>...</th>\n",
       "      <td>...</td>\n",
       "    </tr>\n",
       "    <tr>\n",
       "      <th>2890</th>\n",
       "      <td>#FATHEROFASAHD HTTPURL</td>\n",
       "    </tr>\n",
       "    <tr>\n",
       "      <th>2891</th>\n",
       "      <td>RT @USER : @USER DJ KHALED HAS THE BEST CONNEC...</td>\n",
       "    </tr>\n",
       "    <tr>\n",
       "      <th>2892</th>\n",
       "      <td>RT @USER : Ok Jesus. @USER snapped on Weather ...</td>\n",
       "    </tr>\n",
       "    <tr>\n",
       "      <th>2893</th>\n",
       "      <td>RT @USER : Father of Asahd :fire: @USER</td>\n",
       "    </tr>\n",
       "    <tr>\n",
       "      <th>2894</th>\n",
       "      <td>RT @USER : #NowPlaying @USER ft. @USER &amp; @USER...</td>\n",
       "    </tr>\n",
       "  </tbody>\n",
       "</table>\n",
       "<p>2895 rows × 1 columns</p>\n",
       "</div>"
      ],
      "text/plain": [
       "                                             normalized\n",
       "0     Grateful, thank u @USER for the nomination, bl...\n",
       "1     Behind the scenes the summer anthem #EVERYCHAN...\n",
       "2     The man, the legend, the icon. GOD'S SON @USER...\n",
       "3     This is a legendary occasion @USER The chance ...\n",
       "4     Thank you @USER for having me we had great tal...\n",
       "...                                                 ...\n",
       "2890                             #FATHEROFASAHD HTTPURL\n",
       "2891  RT @USER : @USER DJ KHALED HAS THE BEST CONNEC...\n",
       "2892  RT @USER : Ok Jesus. @USER snapped on Weather ...\n",
       "2893            RT @USER : Father of Asahd :fire: @USER\n",
       "2894  RT @USER : #NowPlaying @USER ft. @USER & @USER...\n",
       "\n",
       "[2895 rows x 1 columns]"
      ]
     },
     "execution_count": 27,
     "metadata": {},
     "output_type": "execute_result"
    }
   ],
   "source": [
    "# Load Training Data\n",
    "df = pd.read_csv('data/tweets_output.csv')\n",
    "df = df[[\"normalized\"]]\n",
    "df"
   ]
  },
  {
   "cell_type": "code",
   "execution_count": 28,
   "metadata": {},
   "outputs": [],
   "source": [
    "# Joing all the strings together as a corpus. Each one should be a sentence ending with a period\n",
    "text = df['normalized'].str.cat(sep='. ')"
   ]
  },
  {
   "cell_type": "code",
   "execution_count": 29,
   "metadata": {},
   "outputs": [
    {
     "name": "stdout",
     "output_type": "stream",
     "text": [
      "RT @USER : Alexa, play Wish Wish :woman_dancing: -@USER always have me bouncing :woman_dancing: -@@. RT @USER : Making new music.\n",
      "Bless up @USER!!! #KHALEDKHALED OUT NOW!! :police_car_light: HTTPURL HTTPURL.\n",
      "RT @USER : Let's go GOLFING :person_golfing: ‍ :male_sign: :person_facepalming: :medium_skin_tone: ‍ :male_sign:!!! :fire: :fire: Very Hooooot @USER #KHALEDKHALED :palms_up_together: :medium_skin_tone: :sun_with_face: :UP!_button: KHALED KHALED HTTPURL.\n",
      "@USER @USER HTTPURL #nyedj HTTPURL.\n",
      "RT @USER : Let it go video out now on @USER!! WE ONLY TALK ABOUT GREATNESS.\n",
      "These stories are inspiring to a great day!\n",
      "RT @USER : JUST ANNOUNCED — @USER and @USER are basically the worlds most dynamic duo so that's that.\n",
      "THE OFFICIAL MOVIE DIRECTED by @USER is the whole album :fire: :fire:. RT @USER : #PORTOFMIAMI2 AUGUST 9TH @USER BOSS UP!\n",
      "RT @USER : HTTPURL HTTPURL....\n",
      "NIP / JL, ROSS & JEEZY on the cover I said...\n",
      "RT @USER : Apple Music #GREECE # 2 On iTunes Hip Hop Chart!!! :face_with_steam_from_nose: :face_with_steam_from_nose: :face_with_steam_from_nose: OUT NOW!! HTTPURL.\n",
      "Happy #NationalVoterRegistrationDay to my r...\n",
      "RT @USER : @USER @USER @USER Off the album that's # 1 DEBUT ALBUM ON APPLE MUSIC TODAY THANKFUL VIDEO HTTPURL.\n",
      ":police_car_light: :police_car_light: THANK YOU FANLUV!\n",
      "POPSTAR OFFICIAL VIDEO DJKHALED @USER and @USER came together today to celebrate the # 1 songs on US Apple Music US : # 1.\n",
      "RT @USER : Damn these bars that ⁦ @USER ⁩ ⁦ @USER ⁩ ⁦ @USER ⁩ is the night!\n",
      ":flushed_face: WOW!!! KHALED KHALED ALBUM MODE @USER @USER @USER #DJKHALED #DJKHALED :fire: :red_heart: ‍ :fire: :red_heart: HTTPURL.\n",
      "RT @USER : This new @USER x @USER.\n",
      "#CRWN @USER HTTPURL HTTPURL.\n",
      "RT @USER : @USER @USER @USER @USER nominated for S...\n",
      "I seen it it's amazing video HTTPURL.\n",
      "@USER @USER @USER @USER :key: #AnotherOne Thank You @USER For This Masterpiece :folded_hands: :fire: :fire: #BADBOYSFORLIFE SOUNDTRACK AND MOVIE OUT NOW!!! I'm so ready to be gr....\n",
      "Everyone asking me about how I got a big surprise :shushing_face: #FANLUV stay tuned...\n",
      "FLIPPDINERO new ANTHEM alert :police_car_light: ITS NEW!\n",
      "A Grateful :red_heart: is a vibe #KHALEDKHALED HTTPURL.\n"
     ]
    }
   ],
   "source": [
    "# Build the model.\n",
    "text_model = markovify.Text(text)\n",
    "generated_quotes = []\n",
    "\n",
    "# Print five randomly-generated sentences\n",
    "for i in range(10):\n",
    "    sentence = text_model.make_sentence()\n",
    "    generated_quotes.append(sentence)\n",
    "    print(sentence)\n",
    "\n",
    "# Print three randomly-generated sentences of no more than 280 characters\n",
    "for i in range(15):\n",
    "    sentence = text_model.make_short_sentence(280)\n",
    "    generated_quotes.append(sentence)\n",
    "    print(sentence)"
   ]
  },
  {
   "cell_type": "code",
   "execution_count": 30,
   "metadata": {},
   "outputs": [],
   "source": [
    "# Write the output to a file\n",
    "generated_filename = f'./output/generated_tweet.{int(time.time())}.csv'\n",
    "\n",
    "with open(generated_filename, 'wt') as output:\n",
    "    writer = csv.writer(output)\n",
    "    \n",
    "    writer.writerow(\n",
    "        ['generated_quote']\n",
    "    )\n",
    "\n",
    "    for sentence in generated_quotes:\n",
    "        writer.writerow([sentence])\n",
    "    \n"
   ]
  },
  {
   "cell_type": "code",
   "execution_count": null,
   "metadata": {},
   "outputs": [],
   "source": [
    "\n"
   ]
  }
 ],
 "metadata": {
  "interpreter": {
   "hash": "865930e2c62e82f44315dd3b516508ed26d252ec6fdac0049f5dd5aa21ae2e3f"
  },
  "kernelspec": {
   "display_name": "Python 3.9.1 64-bit ('venv': venv)",
   "name": "python3"
  },
  "language_info": {
   "codemirror_mode": {
    "name": "ipython",
    "version": 3
   },
   "file_extension": ".py",
   "mimetype": "text/x-python",
   "name": "python",
   "nbconvert_exporter": "python",
   "pygments_lexer": "ipython3",
   "version": "3.9.1"
  },
  "orig_nbformat": 4
 },
 "nbformat": 4,
 "nbformat_minor": 2
}
